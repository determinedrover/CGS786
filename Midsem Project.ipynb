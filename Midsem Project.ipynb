{
 "cells": [
  {
   "cell_type": "code",
   "execution_count": 22,
   "id": "5726103d",
   "metadata": {},
   "outputs": [
    {
     "name": "stdout",
     "output_type": "stream",
     "text": [
      "Estimated Parameters: [ 0.34000028  1.84000625 17.56002952  0.1000332 ]\n",
      "Predicted Reaction Times: [22.56 21.56 22.56 ... 21.56 23.56 22.56]\n"
     ]
    }
   ],
   "source": [
    "import pandas as pd\n",
    "import numpy as np\n",
    "import scipy.optimize\n",
    "\n",
    "\n",
    "dataset_path = 'dataset.csv'\n",
    "df = pd.read_csv(dataset_path)\n",
    "\n",
    "\n",
    "congruent_data = df['Congruent'].values\n",
    "incongruent_data = df['Incongruent'].values\n",
    "\n",
    "all_data = np.concatenate([congruent_data, incongruent_data])\n",
    "conditions = np.concatenate([np.zeros_like(congruent_data), np.ones_like(incongruent_data)])\n",
    "\n",
    "# Drift-diffusion model function\n",
    "def ddm_model(params, t, condition):\n",
    "    v, a, w, s = params\n",
    "    drift = v if condition == 1 else -v  # Adjust drift based on condition\n",
    "    noise = np.random.normal(0, abs(s), size=len(t))\n",
    "    accumulation = np.cumsum(drift + noise)\n",
    "    rt = np.argmax(np.abs(accumulation) >= a)\n",
    "    return float(rt + w)\n",
    "\n",
    "# Cost function for fitting\n",
    "def cost_function(params, data, conditions):\n",
    "    predicted_rts = np.array([ddm_model(params, np.arange(len(data)), c) for c in conditions])\n",
    "    return np.sum((predicted_rts - data) ** 2)\n",
    "\n",
    "# Initial parameter values\n",
    "initial_parameters = np.array([0.34, 1.84, 17.56, 0.1])\n",
    "\n",
    "# Fitting the model\n",
    "fit_params = scipy.optimize.minimize(cost_function, initial_parameters, args=(all_data, conditions)).x\n",
    "\n",
    "# Print the estimated parameters\n",
    "print(\"Estimated Parameters:\", fit_params)\n",
    "\n",
    "\n",
    "\n",
    "# Modify new_conditions to contain 1000 alternating 0s and 1s\n",
    "new_conditions = np.tile([0, 1], 1000)[:2000]\n",
    "\n",
    "# Use the ddm_model function to predict reaction times for the updated conditions\n",
    "predicted_rts = np.array([ddm_model(initial_parameters, np.arange(2000), c) for c in new_conditions])\n",
    "\n",
    "\n",
    "print(\"Predicted Reaction Times:\", predicted_rts)\n",
    "\n"
   ]
  },
  {
   "cell_type": "code",
   "execution_count": 23,
   "id": "5c3d1eaa",
   "metadata": {},
   "outputs": [
    {
     "name": "stdout",
     "output_type": "stream",
     "text": [
      "Number of cases where odd-indexed element is greater than its previous element: 0.303\n"
     ]
    }
   ],
   "source": [
    "def count_odd_indexed_greater_than_previous(arr):\n",
    "    count = 0\n",
    "    for i in range(1, len(arr), 2):  # Start from index 1, step by 2 to get odd indices\n",
    "        if arr[i] > arr[i - 1]:\n",
    "            count += 1\n",
    "    return count\n",
    "\n",
    "\n",
    "\n",
    "result = count_odd_indexed_greater_than_previous(predicted_rts)\n",
    "\n",
    "# Print the result\n",
    "print(\"Number of cases where odd-indexed element is greater than its previous element:\", result/1000)\n"
   ]
  },
  {
   "cell_type": "code",
   "execution_count": 24,
   "id": "33ee2cdd",
   "metadata": {},
   "outputs": [
    {
     "name": "stdout",
     "output_type": "stream",
     "text": [
      "Average of Congruent: 22.487000000000233\n",
      "Average of Incongruent: 22.532000000000238\n"
     ]
    }
   ],
   "source": [
    "def average_odd_even(arr):\n",
    "    odd_sum = 0\n",
    "    even_sum = 0\n",
    "    odd_count = 0\n",
    "    even_count = 0\n",
    "\n",
    "    for i in range(len(arr)):\n",
    "        if i % 2 == 0:  # even index\n",
    "            even_sum += arr[i]\n",
    "            even_count += 1\n",
    "        else:  # odd index\n",
    "            odd_sum += arr[i]\n",
    "            odd_count += 1\n",
    "\n",
    "    if odd_count > 0:\n",
    "        odd_average = odd_sum / odd_count\n",
    "    else:\n",
    "        odd_average = 0\n",
    "\n",
    "    if even_count > 0:\n",
    "        even_average = even_sum / even_count\n",
    "    else:\n",
    "        even_average = 0\n",
    "\n",
    "    return odd_average, even_average\n",
    "\n",
    "odd_avg, even_avg = average_odd_even(predicted_rts)\n",
    "print(\"Average of Congruent:\", odd_avg)\n",
    "print(\"Average of Incongruent:\", even_avg)\n"
   ]
  },
  {
   "cell_type": "code",
   "execution_count": 20,
   "id": "16845b2e",
   "metadata": {},
   "outputs": [
    {
     "name": "stdout",
     "output_type": "stream",
     "text": [
      "Best parameters found: [ 0.34181424  1.84558095 17.56124614]\n"
     ]
    }
   ],
   "source": [
    "import pandas as pd\n",
    "from scipy.optimize import minimize\n",
    "import numpy as np\n",
    "\n",
    "# Load dataset\n",
    "df = pd.read_csv(\"dataset.csv\")\n",
    "\n",
    "# Define drift diffusion model\n",
    "def drift_diffusion_model(params, stimulus):\n",
    "    \"\"\"\n",
    "    Simulate drift diffusion model for given parameters and stimulus\n",
    "    \n",
    "    Params:\n",
    "    - params (tuple): Tuple of DDM parameters (drift rate, boundary separation, non-decision time)\n",
    "    - stimulus (int): Stimulus indicating congruent (0) or incongruent (1) condition\n",
    "    \n",
    "    Returns:\n",
    "    - response_time (float): Predicted response time\n",
    "    \"\"\"\n",
    "    drift_rate, boundary, non_decision_time = params\n",
    "    \n",
    "    # Simulate accumulation process\n",
    "    decision_variable = 0\n",
    "    while abs(decision_variable) < boundary:\n",
    "        decision_variable += drift_rate + np.random.normal(0, 1)  # Drift rate + noise\n",
    "        decision_variable = max(0, decision_variable)  # Ensure non-negative\n",
    "    \n",
    "    # Add non-decision time\n",
    "    response_time = non_decision_time + np.random.normal(0, 1)\n",
    "    \n",
    "    return response_time\n",
    "\n",
    "# Define objective function for optimization\n",
    "def objective(params):\n",
    "    \"\"\"\n",
    "    Objective function for optimization\n",
    "    \n",
    "    Params:\n",
    "    - params (tuple): Tuple of DDM parameters (drift rate, boundary separation, non-decision time)\n",
    "    \n",
    "    Returns:\n",
    "    - error (float): Error between predicted and actual response times\n",
    "    \"\"\"\n",
    "    error = 0\n",
    "    for _, row in df.iterrows():\n",
    "        congruent_rt = row['Congruent']\n",
    "        incongruent_rt = row['Incongruent']\n",
    "        \n",
    "        # Predict response times\n",
    "        predicted_congruent_rt = drift_diffusion_model(params, 0)\n",
    "        predicted_incongruent_rt = drift_diffusion_model(params, 1)\n",
    "        \n",
    "        # Calculate error\n",
    "        error += (predicted_congruent_rt - congruent_rt) ** 2\n",
    "        error += (predicted_incongruent_rt - incongruent_rt) ** 2\n",
    "    \n",
    "    return error\n",
    "\n",
    "# Initial guess for parameters\n",
    "initial_params = (0.3, 1.5, 75)  # Example initial guess\n",
    "\n",
    "# Perform optimization\n",
    "result = minimize(objective, initial_params, method='Nelder-Mead')\n",
    "best_params = result.x\n",
    "\n",
    "print(\"Best parameters found:\", best_params)\n"
   ]
  },
  {
   "cell_type": "code",
   "execution_count": 4,
   "id": "ecb0fa9f",
   "metadata": {},
   "outputs": [],
   "source": [
    "import ddm"
   ]
  },
  {
   "cell_type": "code",
   "execution_count": null,
   "id": "abd1ca7a",
   "metadata": {},
   "outputs": [],
   "source": []
  }
 ],
 "metadata": {
  "kernelspec": {
   "display_name": "Python 3 (ipykernel)",
   "language": "python",
   "name": "python3"
  },
  "language_info": {
   "codemirror_mode": {
    "name": "ipython",
    "version": 3
   },
   "file_extension": ".py",
   "mimetype": "text/x-python",
   "name": "python",
   "nbconvert_exporter": "python",
   "pygments_lexer": "ipython3",
   "version": "3.8.8"
  }
 },
 "nbformat": 4,
 "nbformat_minor": 5
}
